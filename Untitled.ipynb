{
 "cells": [
  {
   "cell_type": "code",
   "execution_count": 2,
   "id": "2a402d68-9d5b-43b2-871f-800ec5c0bf16",
   "metadata": {
    "tags": []
   },
   "outputs": [],
   "source": [
    "import numpy as np\n",
    "import pandas as pd\n",
    "import matplotlib.pyplot as plt\n",
    "import seaborn as sns\n",
    "%matplotlib inline"
   ]
  },
  {
   "cell_type": "code",
   "execution_count": 139,
   "id": "710723c8-423e-4d35-99ac-c7ff3976e435",
   "metadata": {
    "tags": []
   },
   "outputs": [],
   "source": [
    "df=pd.read_csv(\"country_vaccination_stats.csv\")"
   ]
  },
  {
   "cell_type": "markdown",
   "id": "482b2b29-0410-432a-9127-b4cb263db16d",
   "metadata": {
    "tags": []
   },
   "source": [
    "# Question 4-5"
   ]
  },
  {
   "cell_type": "code",
   "execution_count": 140,
   "id": "aa15be90-7b9d-484b-9ec0-112d34774b0c",
   "metadata": {
    "tags": []
   },
   "outputs": [],
   "source": [
    "ornek_df=df[df[\"daily_vaccinations\"].isna()]\n",
    "def calculateDailyVaccinations(country):\n",
    "    min_value=df[df[\"country\"]==country][\"daily_vaccinations\"].min()\n",
    "    return min_value\n",
    "new_values=ornek_df[\"country\"].apply(lambda x:calculateDailyVaccinations(x)).fillna(0)\n",
    "df[\"daily_vaccinations\"].fillna(new_values,inplace=True)"
   ]
  },
  {
   "cell_type": "code",
   "execution_count": null,
   "id": "784bbad8-53ba-47d4-b579-3cca29a01e02",
   "metadata": {},
   "outputs": [],
   "source": []
  }
 ],
 "metadata": {
  "kernelspec": {
   "display_name": "Python 3 (ipykernel)",
   "language": "python",
   "name": "python3"
  },
  "language_info": {
   "codemirror_mode": {
    "name": "ipython",
    "version": 3
   },
   "file_extension": ".py",
   "mimetype": "text/x-python",
   "name": "python",
   "nbconvert_exporter": "python",
   "pygments_lexer": "ipython3",
   "version": "3.11.4"
  }
 },
 "nbformat": 4,
 "nbformat_minor": 5
}
